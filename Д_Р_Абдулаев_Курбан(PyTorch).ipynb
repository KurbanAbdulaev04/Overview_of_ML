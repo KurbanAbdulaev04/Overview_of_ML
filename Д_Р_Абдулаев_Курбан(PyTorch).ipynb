{
  "nbformat": 4,
  "nbformat_minor": 0,
  "metadata": {
    "colab": {
      "provenance": [],
      "authorship_tag": "ABX9TyPbY/v+zfNbBmRC9/l+hKcw",
      "include_colab_link": true
    },
    "kernelspec": {
      "name": "python3",
      "display_name": "Python 3"
    },
    "language_info": {
      "name": "python"
    }
  },
  "cells": [
    {
      "cell_type": "markdown",
      "metadata": {
        "id": "view-in-github",
        "colab_type": "text"
      },
      "source": [
        "<a href=\"https://colab.research.google.com/github/KurbanAbdulaev04/Overview_of_ML/blob/main/%D0%94_%D0%A0_%D0%90%D0%B1%D0%B4%D1%83%D0%BB%D0%B0%D0%B5%D0%B2_%D0%9A%D1%83%D1%80%D0%B1%D0%B0%D0%BD(PyTorch).ipynb\" target=\"_parent\"><img src=\"https://colab.research.google.com/assets/colab-badge.svg\" alt=\"Open In Colab\"/></a>"
      ]
    },
    {
      "cell_type": "markdown",
      "source": [
        "## **Реализация задачи классификации с использованием библиотеки PyTorch**"
      ],
      "metadata": {
        "id": "LordJr9vSjqw"
      }
    },
    {
      "cell_type": "markdown",
      "source": [
        "## Импорт необходимых модулей\n",
        "Добавлена магическая команда **\"%matplotlib inline\"** для отображения графиков.\n",
        "\n",
        "Импорт различных библиотек, необходимых для обработки данных, визуализации, машинного обучения и задач глубокого обучения."
      ],
      "metadata": {
        "id": "Crb8YtQyS03T"
      }
    },
    {
      "cell_type": "code",
      "source": [
        "import matplotlib.pyplot as plt\n",
        "from matplotlib import rc\n",
        "\n",
        "import pandas as pd\n",
        "import numpy as np\n",
        "\n",
        "from sklearn.preprocessing import MinMaxScaler\n",
        "\n",
        "import torch\n",
        "import torch.nn as nn\n",
        "import torch.optim as optim\n",
        "from torch.utils.data import DataLoader, TensorDataset\n",
        "from sklearn.metrics import mean_squared_error, r2_score\n",
        "from collections import defaultdict\n",
        "\n",
        "%matplotlib inline\n"
      ],
      "metadata": {
        "id": "KP8tLZLgS2bS"
      },
      "execution_count": null,
      "outputs": []
    },
    {
      "cell_type": "markdown",
      "source": [
        "## Загрузка данных"
      ],
      "metadata": {
        "id": "Mq6XJRWZTwWu"
      }
    },
    {
      "cell_type": "code",
      "source": [
        "data = pd.read_csv('/content/SBER_210101_250101.csv')\n",
        "print(data.shape)\n",
        "print(data.tail())\n",
        "\n",
        "data.info()"
      ],
      "metadata": {
        "colab": {
          "base_uri": "https://localhost:8080/"
        },
        "id": "Itjc--z9Tw8E",
        "outputId": "882458c2-f6bd-4442-c7af-a7164a57385e"
      },
      "execution_count": null,
      "outputs": [
        {
          "output_type": "stream",
          "name": "stdout",
          "text": [
            "(999, 7)\n",
            "     <DATE>  <TIME>  <OPEN>  <HIGH>   <LOW>  <CLOSE>      <VOL>\n",
            "994  241225       0  263.64  273.00  260.31   271.69  125501440\n",
            "995  241226       0  272.02  274.25  269.10   269.56   75523970\n",
            "996  241227       0  269.69  272.16  268.57   271.20   52121690\n",
            "997  241228       0  271.37  273.99  270.40   272.83   39560080\n",
            "998  241230       0  273.99  279.49  273.70   279.43   52353840\n",
            "<class 'pandas.core.frame.DataFrame'>\n",
            "RangeIndex: 999 entries, 0 to 998\n",
            "Data columns (total 7 columns):\n",
            " #   Column   Non-Null Count  Dtype  \n",
            "---  ------   --------------  -----  \n",
            " 0   <DATE>   999 non-null    int64  \n",
            " 1   <TIME>   999 non-null    int64  \n",
            " 2   <OPEN>   999 non-null    float64\n",
            " 3   <HIGH>   999 non-null    float64\n",
            " 4   <LOW>    999 non-null    float64\n",
            " 5   <CLOSE>  999 non-null    float64\n",
            " 6   <VOL>    999 non-null    int64  \n",
            "dtypes: float64(4), int64(3)\n",
            "memory usage: 54.8 KB\n"
          ]
        }
      ]
    },
    {
      "cell_type": "markdown",
      "source": [
        "## Предварительная обработка данных\n",
        "\n",
        "* math.ceil: Используется для расчета количества точек обучающих данных (90% от общего объема данных).\n",
        "* train_data и test_data: Разделите фрейм данных на обучающий и тестовый наборы.\n",
        "* MinMaxScaler: Масштабирует данные в диапазоне [0, 1]. Такая нормализация помогает нейронной сети быстрее сходиться."
      ],
      "metadata": {
        "id": "y2qudC26UswA"
      }
    },
    {
      "cell_type": "code",
      "source": [
        "import math\n",
        "from sklearn.preprocessing import MinMaxScaler\n",
        "\n",
        "# разделение на тестовые данные\n",
        "training_data_len = math.ceil(len(data) * .9)\n",
        "print(training_data_len)\n",
        "\n",
        "# разделение набора данных на обучающие и тестовые\n",
        "train_data = data[:training_data_len].iloc[:, 5:6]\n",
        "test_data = data[training_data_len:].iloc[:, 5:6]\n",
        "print(train_data.shape, test_data.shape)\n",
        "\n",
        "# выбор значений цены закрытия\n",
        "dataset_train = train_data.values\n",
        "dataset_test = test_data.values\n",
        "# преобразование 1D-массива в 2D-массив\n",
        "dataset_train = np.reshape(dataset_train, (-1, 1))\n",
        "print(dataset_train.shape)\n",
        "\n",
        "dataset_test = np.reshape(dataset_test, (-1, 1))\n",
        "print(dataset_test.shape)\n",
        "\n",
        "scaler = MinMaxScaler(feature_range=(0, 1))\n",
        "# масштабирование набора данных\n",
        "scaled_train = scaler.fit_transform(dataset_train)\n",
        "print(scaled_train[:5])\n",
        "\n",
        "# Нормализация значений от 0 до 1\n",
        "scaled_test = scaler.fit_transform(dataset_test)\n",
        "print(scaled_test[:5])\n"
      ],
      "metadata": {
        "colab": {
          "base_uri": "https://localhost:8080/"
        },
        "id": "-IeXNkKaVJXN",
        "outputId": "8d9d6888-f9da-4a21-cb2f-deeabb0e7f6a"
      },
      "execution_count": null,
      "outputs": [
        {
          "output_type": "stream",
          "name": "stdout",
          "text": [
            "900\n",
            "(900, 1) (99, 1)\n",
            "(900, 1)\n",
            "(99, 1)\n",
            "[[0.59594547]\n",
            " [0.60713037]\n",
            " [0.59919609]\n",
            " [0.63663055]\n",
            " [0.65707794]]\n",
            "[[0.97476453]\n",
            " [0.91416385]\n",
            " [0.79989337]\n",
            " [0.7648836 ]\n",
            " [0.77785676]]\n"
          ]
        }
      ]
    },
    {
      "cell_type": "markdown",
      "source": [
        "## Создадим последовательности и метки для обучения и тестирования"
      ],
      "metadata": {
        "id": "WTvmhL_1yEUK"
      }
    },
    {
      "cell_type": "markdown",
      "source": [
        "Структурируем данные в последовательности для модели LSTM. Каждая последовательность содержит заданное количество временных шагов. Затем преобразуем данные в тензоры PyTorch, которые необходимы для ввода в модель PyTorch.\n",
        "\n",
        "* sequence_length: Количество временных шагов, на которые модель оглядывается назад, чтобы сделать прогноз.\n",
        "* X_train и y_train: Массивы для хранения входных последовательностей и соответствующих им меток для обучения.\n",
        "* X_test и y_test: Массивы для тестирования данных.\n",
        "* torch.tensor: Преобразует массивы numpy в тензоры PyTorch."
      ],
      "metadata": {
        "id": "RNBsGpcRzOeI"
      }
    },
    {
      "cell_type": "code",
      "source": [
        "# Создание последовательностей и меток для обучающих данных\n",
        "sequence_length = 50  # количество временных шагов, на которые нужно оглянуться назад\n",
        "X_train, y_train = [], []\n",
        "for i in range(len(scaled_train) - sequence_length):\n",
        "    X_train.append(scaled_train[i:i + sequence_length])\n",
        "    y_train.append(scaled_train[i + sequence_length])  # прогнозирование значения сразу после выполнения последовательности\n",
        "X_train, y_train = np.array(X_train), np.array(y_train)\n",
        "\n",
        "# преобразование данных в тензоры PyTorch\n",
        "X_train = torch.tensor(X_train, dtype=torch.float32)\n",
        "y_train = torch.tensor(y_train, dtype=torch.float32)\n",
        "print(X_train.shape, y_train.shape)\n",
        "\n",
        "# Создание последовательностей и меток для тестирования данных\n",
        "sequence_length = 30  # количество временных шагов, на которые нужно оглянуться назад\n",
        "X_test, y_test = [], []\n",
        "for i in range(len(scaled_test) - sequence_length):\n",
        "    X_test.append(scaled_test[i:i + sequence_length])\n",
        "    y_test.append(scaled_test[i + sequence_length])  # Прогнозирование значения сразу после выполнения последовательности\n",
        "X_test, y_test = np.array(X_test), np.array(y_test)\n",
        "\n",
        "# преобразование данных в тензоры PyTorch\n",
        "X_test = torch.tensor(X_test, dtype=torch.float32)\n",
        "y_test = torch.tensor(y_test, dtype=torch.float32)\n",
        "print(X_test.shape, y_test.shape)\n"
      ],
      "metadata": {
        "colab": {
          "base_uri": "https://localhost:8080/"
        },
        "id": "vYrjzcq_bEOf",
        "outputId": "0a6ab26d-07c7-4d49-ccf8-d855eb764fcd"
      },
      "execution_count": null,
      "outputs": [
        {
          "output_type": "stream",
          "name": "stdout",
          "text": [
            "torch.Size([850, 50, 1]) torch.Size([850, 1])\n",
            "torch.Size([69, 30, 1]) torch.Size([69, 1])\n"
          ]
        }
      ]
    },
    {
      "cell_type": "markdown",
      "source": [
        "## Определение и обучение модели LSTM"
      ],
      "metadata": {
        "id": "qXq6iYQR0gQg"
      }
    },
    {
      "cell_type": "markdown",
      "source": [
        "Определение модели LSTM для прогнозирования временных рядов. Модель включает уровень LSTM, за которым следует полностью связанный уровень.\n",
        "\n",
        "* LSTMModel: Класс нейронной сети PyTorch со слоем LSTM и линейным слоем.\n",
        "* Конфигурация устройства(Device Configuration): Проверьте, доступен ли графический процессор, и используйте его, если это возможно.\n",
        "* Гиперпараметры: Такие настройки, как размер ввода, скрытый размер, количество слоев, частота отсева, размер пакета, скорость обучения и количество эпох.\n",
        "* Загрузчик данных(DataLoader): Утилита для пакетной обработки и перетасовки набора данных.\n",
        "* Цикл обучения(Training Loop): Цикл по набору данных за указанное количество эпох, выполнение прямых и обратных проходов и обновление весов модели."
      ],
      "metadata": {
        "id": "iIXuQ9vp0xRm"
      }
    },
    {
      "cell_type": "code",
      "source": [
        "class LSTMModel(nn.Module):\n",
        "    def __init__(self, input_size, hidden_size, num_layers, dropout=0.2):\n",
        "        super(LSTMModel, self).__init__()\n",
        "        self.lstm = nn.LSTM(input_size, hidden_size, num_layers, batch_first=True, dropout=dropout)\n",
        "        self.linear = nn.Linear(hidden_size, 1)\n",
        "\n",
        "    def forward(self, x):\n",
        "        out, _ = self.lstm(x)\n",
        "        out = self.linear(out[:, -1, :])\n",
        "        return out\n",
        "\n",
        "device = torch.device('cuda' if torch.cuda.is_available() else 'cpu')\n",
        "print(device)\n",
        "\n",
        "input_size = 1\n",
        "num_layers = 3  # количество слоев\n",
        "hidden_size = 128  # количество скрытых юнитов\n",
        "output_size = 1\n",
        "dropout = 0.2  # отсев для упорядочения, помогает предотвратить переобучение\n",
        "\n",
        "model = LSTMModel(input_size, hidden_size, num_layers, dropout).to(device)\n",
        "loss_fn = nn.MSELoss(reduction='mean')\n",
        "optimizer = optim.Adam(model.parameters(), lr=1e-3)  # оптимизация скоромсти обучения\n",
        "\n",
        "batch_size = 32  # скорректированный размер партии\n",
        "train_dataset = TensorDataset(X_train, y_train)\n",
        "train_loader = DataLoader(train_dataset, batch_size=batch_size, shuffle=True)\n",
        "test_dataset = TensorDataset(X_test, y_test)\n",
        "test_loader = DataLoader(test_dataset, batch_size=batch_size, shuffle=False)\n",
        "\n",
        "num_epochs = 100  # количество эпох\n",
        "train_hist = []\n",
        "test_hist = []\n",
        "\n",
        "for epoch in range(num_epochs):\n",
        "    total_loss = 0.0\n",
        "    model.train()\n",
        "    for batch_X, batch_y in train_loader:\n",
        "        batch_X, batch_y = batch_X.to(device), batch_y.to(device)\n",
        "        predictions = model(batch_X)\n",
        "        loss = loss_fn(predictions, batch_y)\n",
        "\n",
        "        optimizer.zero_grad()\n",
        "        loss.backward()\n",
        "        optimizer.step()\n",
        "\n",
        "        total_loss += loss.item()\n",
        "\n",
        "    average_loss = total_loss / len(train_loader)\n",
        "    train_hist.append(average_loss)\n",
        "\n",
        "    model.eval()\n",
        "    with torch.no_grad():\n",
        "        total_test_loss = 0.0\n",
        "\n",
        "        for batch_X_test, batch_y_test in test_loader:\n",
        "            batch_X_test, batch_y_test = batch_X_test.to(device), batch_y_test.to(device)\n",
        "            predictions_test = model(batch_X_test)\n",
        "            test_loss = loss_fn(predictions_test, batch_y_test)\n",
        "\n",
        "            total_test_loss += test_loss.item()\n",
        "\n",
        "        average_test_loss = total_test_loss / len(test_loader)\n",
        "        test_hist.append(average_test_loss)\n",
        "\n",
        "    if (epoch + 1) % 10 == 0:\n",
        "        print(f'Epoch [{epoch + 1}/{num_epochs}] - Training Loss: {average_loss:.4f}, Test Loss: {average_test_loss:.4f}')\n"
      ],
      "metadata": {
        "colab": {
          "base_uri": "https://localhost:8080/"
        },
        "id": "2pWqds1tbNKO",
        "outputId": "fe6d67f8-4ea5-4394-d4dc-489852307539"
      },
      "execution_count": null,
      "outputs": [
        {
          "output_type": "stream",
          "name": "stdout",
          "text": [
            "cpu\n",
            "Epoch [10/100] - Training Loss: 0.0023, Test Loss: 0.0930\n",
            "Epoch [20/100] - Training Loss: 0.0017, Test Loss: 0.0507\n",
            "Epoch [30/100] - Training Loss: 0.0013, Test Loss: 0.0291\n",
            "Epoch [40/100] - Training Loss: 0.0010, Test Loss: 0.0188\n",
            "Epoch [50/100] - Training Loss: 0.0010, Test Loss: 0.0151\n",
            "Epoch [60/100] - Training Loss: 0.0009, Test Loss: 0.0140\n",
            "Epoch [70/100] - Training Loss: 0.0008, Test Loss: 0.0124\n",
            "Epoch [80/100] - Training Loss: 0.0007, Test Loss: 0.0119\n",
            "Epoch [90/100] - Training Loss: 0.0006, Test Loss: 0.0111\n",
            "Epoch [100/100] - Training Loss: 0.0007, Test Loss: 0.0106\n"
          ]
        }
      ]
    },
    {
      "cell_type": "markdown",
      "source": [
        "## Визуализация модели"
      ],
      "metadata": {
        "id": "yddIjL9r5RyS"
      }
    },
    {
      "cell_type": "code",
      "source": [
        "x = np.linspace(1,num_epochs,num_epochs)\n",
        "plt.plot(x,train_hist,scalex=True, label=\"Training loss\")\n",
        "plt.plot(x, test_hist, label=\"Test loss\")\n",
        "plt.legend()\n",
        "plt.show()\n"
      ],
      "metadata": {
        "colab": {
          "base_uri": "https://localhost:8080/",
          "height": 430
        },
        "id": "9ZLp-gwrccD8",
        "outputId": "b7c1190c-f994-4c60-8e6f-7f0ef47adaa3"
      },
      "execution_count": null,
      "outputs": [
        {
          "output_type": "display_data",
          "data": {
            "text/plain": [
              "<Figure size 640x480 with 1 Axes>"
            ],
            "image/png": "[encoded data removed]"
          },
          "metadata": {}
        }
      ]
    },
    {
      "cell_type": "markdown",
      "source": [
        "Точность тестовых данных, как видим на графике, нихкая.\n",
        "\n",
        "Для получения более точных прогнозов часто требуются дополнительные корректировки, настройка гиперпараметров и оптимизация. Для улучшения возможностей прогнозирования можно использовать методы ансамблей(ensemble) и другие передовые методологии.\n",
        "\n"
      ],
      "metadata": {
        "id": "IzmLFPWqa-2_"
      }
    }
  ]
}
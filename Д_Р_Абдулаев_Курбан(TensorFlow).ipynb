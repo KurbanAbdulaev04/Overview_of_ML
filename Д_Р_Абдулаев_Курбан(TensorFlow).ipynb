{
  "nbformat": 4,
  "nbformat_minor": 0,
  "metadata": {
    "colab": {
      "provenance": [],
      "authorship_tag": "ABX9TyOGajOtqEehkzW6olAyPhnk",
      "include_colab_link": true
    },
    "kernelspec": {
      "name": "python3",
      "display_name": "Python 3"
    },
    "language_info": {
      "name": "python"
    }
  },
  "cells": [
    {
      "cell_type": "markdown",
      "metadata": {
        "id": "view-in-github",
        "colab_type": "text"
      },
      "source": [
        "<a href=\"https://colab.research.google.com/github/KurbanAbdulaev04/Overview_of_ML/blob/main/%D0%94_%D0%A0_%D0%90%D0%B1%D0%B4%D1%83%D0%BB%D0%B0%D0%B5%D0%B2_%D0%9A%D1%83%D1%80%D0%B1%D0%B0%D0%BD(TensorFlow).ipynb\" target=\"_parent\"><img src=\"https://colab.research.google.com/assets/colab-badge.svg\" alt=\"Open In Colab\"/></a>"
      ]
    },
    {
      "cell_type": "markdown",
      "source": [
        "## **Реализация задачи классификации с использованием TensorFlow**\n"
      ],
      "metadata": {
        "id": "rX7bSbGES8PA"
      }
    },
    {
      "cell_type": "markdown",
      "source": [
        "## Импорт необходимых модулей"
      ],
      "metadata": {
        "id": "HsbDhs1xTFmn"
      }
    },
    {
      "cell_type": "code",
      "source": [
        "import pandas as pd\n",
        "import matplotlib.pyplot as plt\n",
        "import numpy as np\n",
        "import tensorflow as tf\n",
        "from tensorflow import keras\n",
        "from datetime import datetime"
      ],
      "metadata": {
        "id": "Y0Gza7eCTJ5X"
      },
      "execution_count": null,
      "outputs": []
    },
    {
      "cell_type": "markdown",
      "source": [
        "## Загрузка и распаковка данных"
      ],
      "metadata": {
        "id": "aBaCxKUbTqXH"
      }
    },
    {
      "cell_type": "code",
      "source": [
        "data = pd.read_csv('/content/SBER_210101_250101.csv')\n",
        "print(data.shape)\n",
        "print(data.sample(3))\n",
        "\n",
        "data.info()"
      ],
      "metadata": {
        "colab": {
          "base_uri": "https://localhost:8080/"
        },
        "id": "Itjc--z9Tw8E",
        "outputId": "0012692a-1313-4dc7-8865-f8fe7108b783"
      },
      "execution_count": null,
      "outputs": [
        {
          "output_type": "stream",
          "name": "stdout",
          "text": [
            "(999, 7)\n",
            "     <DATE>  <TIME>  <OPEN>  <HIGH>   <LOW>  <CLOSE>     <VOL>\n",
            "146  210730       0  302.42  306.67  301.12   305.59  49522680\n",
            "529  230301       0  170.40  171.66  169.50   170.53  53655680\n",
            "843  240527       0  321.08  321.95  315.50   317.09  45678990\n",
            "<class 'pandas.core.frame.DataFrame'>\n",
            "RangeIndex: 999 entries, 0 to 998\n",
            "Data columns (total 7 columns):\n",
            " #   Column   Non-Null Count  Dtype  \n",
            "---  ------   --------------  -----  \n",
            " 0   <DATE>   999 non-null    int64  \n",
            " 1   <TIME>   999 non-null    int64  \n",
            " 2   <OPEN>   999 non-null    float64\n",
            " 3   <HIGH>   999 non-null    float64\n",
            " 4   <LOW>    999 non-null    float64\n",
            " 5   <CLOSE>  999 non-null    float64\n",
            " 6   <VOL>    999 non-null    int64  \n",
            "dtypes: float64(4), int64(3)\n",
            "memory usage: 54.8 KB\n"
          ]
        }
      ]
    },
    {
      "cell_type": "markdown",
      "source": [
        "## Преобразуем дату из типа int64 в datetime"
      ],
      "metadata": {
        "id": "ZM6eS-6txq9d"
      }
    },
    {
      "cell_type": "code",
      "source": [
        "date = data['<DATE>']\n",
        "day = [int(str(i)[4:]) for i in date]\n",
        "month = [int(str(i)[2:4]) for i in date]\n",
        "year = [int(str(i)[:2]) for i in date]\n",
        "data['date'] = [datetime(int(f'20{year[i]}'), month[i], day[i])\n",
        "                for i in range(len(year))]\n",
        "data.info()\n",
        "print(data.head())\n",
        "\n"
      ],
      "metadata": {
        "colab": {
          "base_uri": "https://localhost:8080/"
        },
        "id": "nXt8yj1RtZH_",
        "outputId": "8a0f692c-3f65-4e94-8353-487c25eb6ed7"
      },
      "execution_count": null,
      "outputs": [
        {
          "output_type": "stream",
          "name": "stdout",
          "text": [
            "<class 'pandas.core.frame.DataFrame'>\n",
            "RangeIndex: 999 entries, 0 to 998\n",
            "Data columns (total 8 columns):\n",
            " #   Column   Non-Null Count  Dtype         \n",
            "---  ------   --------------  -----         \n",
            " 0   <DATE>   999 non-null    int64         \n",
            " 1   <TIME>   999 non-null    int64         \n",
            " 2   <OPEN>   999 non-null    float64       \n",
            " 3   <HIGH>   999 non-null    float64       \n",
            " 4   <LOW>    999 non-null    float64       \n",
            " 5   <CLOSE>  999 non-null    float64       \n",
            " 6   <VOL>    999 non-null    int64         \n",
            " 7   date     999 non-null    datetime64[ns]\n",
            "dtypes: datetime64[ns](1), float64(4), int64(3)\n",
            "memory usage: 62.6 KB\n",
            "   <DATE>  <TIME>  <OPEN>  <HIGH>   <LOW>  <CLOSE>      <VOL>       date\n",
            "0  210104       0  274.67  276.60  270.61   272.00   48799460 2021-01-04\n",
            "1  210105       0  272.67  275.70  270.28   275.20   45554100 2021-01-05\n",
            "2  210106       0  275.90  275.92  271.62   272.93   40905340 2021-01-06\n",
            "3  210108       0  275.11  283.99  275.11   283.64   88672940 2021-01-08\n",
            "4  210111       0  282.75  292.95  279.48   289.49  112210400 2021-01-11\n"
          ]
        }
      ]
    },
    {
      "cell_type": "markdown",
      "source": [
        "## Выбор данных для обучения, и разделим данные на обучающие и проверочные."
      ],
      "metadata": {
        "id": "a86kYhRHZiqp"
      }
    },
    {
      "cell_type": "code",
      "source": [
        "close_data = data.filter(['<CLOSE>'])\n",
        "dataset = close_data.values\n",
        "training = int(np.ceil(len(dataset) * .9))\n",
        "print(training)"
      ],
      "metadata": {
        "colab": {
          "base_uri": "https://localhost:8080/"
        },
        "id": "fMib4O4BWgmt",
        "outputId": "23fc5570-bd39-455a-fa33-ef2aed771865"
      },
      "execution_count": null,
      "outputs": [
        {
          "output_type": "stream",
          "name": "stdout",
          "text": [
            "900\n"
          ]
        }
      ]
    },
    {
      "cell_type": "markdown",
      "source": [
        "## Применяем масштабирование и подготавливаем функции и метки x_train и y_train."
      ],
      "metadata": {
        "id": "QzFKV7ljcRU7"
      }
    },
    {
      "cell_type": "code",
      "source": [
        "from sklearn.preprocessing import MinMaxScaler\n",
        "\n",
        "scaler = MinMaxScaler(feature_range=(0, 1))\n",
        "scaled_data = scaler.fit_transform(dataset)\n",
        "\n",
        "train_data = scaled_data[0:int(training), :]\n",
        "x_train = []\n",
        "y_train = []\n",
        "\n",
        "for i in range(60, len(train_data)):\n",
        "    x_train.append(train_data[i-60:i, 0])\n",
        "    y_train.append(train_data[i, 0])\n",
        "\n",
        "x_train, y_train = np.array(x_train), np.array(y_train)\n",
        "x_train = np.reshape(x_train, (x_train.shape[0], x_train.shape[1], 1))"
      ],
      "metadata": {
        "id": "eaw3EjwIW62s"
      },
      "execution_count": null,
      "outputs": []
    },
    {
      "cell_type": "markdown",
      "source": [
        "## LSTM используется, чтобы избежать проблемы с исчезающим градиентом, которая широко встречается при обучении RNN. Для объединения нескольких LSTM в TensorFlow обязательно использовать return_sequences = True ."
      ],
      "metadata": {
        "id": "f6zfTUA3eKaJ"
      }
    },
    {
      "cell_type": "code",
      "source": [
        "model = keras.models.Sequential()\n",
        "model.add(keras.layers.LSTM(units=64,\n",
        "                            return_sequences=True,\n",
        "                            input_shape=(x_train.shape[1], 1)))\n",
        "model.add(keras.layers.LSTM(units=64))\n",
        "model.add(keras.layers.Dense(32))\n",
        "model.add(keras.layers.Dropout(0.5))\n",
        "model.add(keras.layers.Dense(1))\n",
        "model.summary\n"
      ],
      "metadata": {
        "colab": {
          "base_uri": "https://localhost:8080/",
          "height": 260
        },
        "id": "SSMQ3a6fXCYy",
        "outputId": "93e7c826-2e24-4a61-9daf-52607990d12f"
      },
      "execution_count": null,
      "outputs": [
        {
          "output_type": "stream",
          "name": "stderr",
          "text": [
            "/usr/local/lib/python3.11/dist-packages/keras/src/layers/rnn/rnn.py:204: UserWarning: Do not pass an `input_shape`/`input_dim` argument to a layer. When using Sequential models, prefer using an `Input(shape)` object as the first layer in the model instead.\n",
            "  super().__init__(**kwargs)\n"
          ]
        },
        {
          "output_type": "execute_result",
          "data": {
            "text/plain": [
              "<bound method Model.summary of <Sequential name=sequential_1, built=True>>"
            ],
            "text/html": [
              "<div style=\"max-width:800px; border: 1px solid var(--colab-border-color);\"><style>\n",
              "      pre.function-repr-contents {\n",
              "        overflow-x: auto;\n",
              "        padding: 8px 12px;\n",
              "        max-height: 500px;\n",
              "      }\n",
              "\n",
              "      pre.function-repr-contents.function-repr-contents-collapsed {\n",
              "        cursor: pointer;\n",
              "        max-height: 100px;\n",
              "      }\n",
              "    </style>\n",
              "    <pre style=\"white-space: initial; background:\n",
              "         var(--colab-secondary-surface-color); padding: 8px 12px;\n",
              "         border-bottom: 1px solid var(--colab-border-color);\"><b>keras.src.models.model.Model.summary</b><br/>def summary(line_length=None, positions=None, print_fn=None, expand_nested=False, show_trainable=False, layer_range=None)</pre><pre class=\"function-repr-contents function-repr-contents-collapsed\" style=\"\"><a class=\"filepath\" style=\"display:none\" href=\"#\">/usr/local/lib/python3.11/dist-packages/keras/src/models/model.py</a>Prints a string summary of the network.\n",
              "\n",
              "Args:\n",
              "    line_length: Total length of printed lines\n",
              "        (e.g. set this to adapt the display to different\n",
              "        terminal window sizes).\n",
              "    positions: Relative or absolute positions of log elements\n",
              "        in each line. If not provided, becomes\n",
              "        `[0.3, 0.6, 0.70, 1.]`. Defaults to `None`.\n",
              "    print_fn: Print function to use. By default, prints to `stdout`.\n",
              "        If `stdout` doesn&#x27;t work in your environment, change to `print`.\n",
              "        It will be called on each line of the summary.\n",
              "        You can set it to a custom function\n",
              "        in order to capture the string summary.\n",
              "    expand_nested: Whether to expand the nested models.\n",
              "        Defaults to `False`.\n",
              "    show_trainable: Whether to show if a layer is trainable.\n",
              "        Defaults to `False`.\n",
              "    layer_range: a list or tuple of 2 strings,\n",
              "        which is the starting layer name and ending layer name\n",
              "        (both inclusive) indicating the range of layers to be printed\n",
              "        in summary. It also accepts regex patterns instead of exact\n",
              "        names. In this case, the start predicate will be\n",
              "        the first element that matches `layer_range[0]`\n",
              "        and the end predicate will be the last element\n",
              "        that matches `layer_range[1]`.\n",
              "        By default `None` considers all layers of the model.\n",
              "\n",
              "Raises:\n",
              "    ValueError: if `summary()` is called before the model is built.</pre>\n",
              "      <script>\n",
              "      if (google.colab.kernel.accessAllowed && google.colab.files && google.colab.files.view) {\n",
              "        for (const element of document.querySelectorAll('.filepath')) {\n",
              "          element.style.display = 'block'\n",
              "          element.onclick = (event) => {\n",
              "            event.preventDefault();\n",
              "            event.stopPropagation();\n",
              "            google.colab.files.view(element.textContent, 216);\n",
              "          };\n",
              "        }\n",
              "      }\n",
              "      for (const element of document.querySelectorAll('.function-repr-contents')) {\n",
              "        element.onclick = (event) => {\n",
              "          event.preventDefault();\n",
              "          event.stopPropagation();\n",
              "          element.classList.toggle('function-repr-contents-collapsed');\n",
              "        };\n",
              "      }\n",
              "      </script>\n",
              "      </div>"
            ]
          },
          "metadata": {},
          "execution_count": 24
        }
      ]
    },
    {
      "cell_type": "markdown",
      "source": [
        "## Составление и обучение модели\n",
        "При составлении модели мы указываем эти три основных параметра:\n",
        "\n",
        "* optimizer – Это метод, который помогает оптимизировать функцию затрат с помощью градиентного спуска.\n",
        "* loss(потери) – Функция потерь, с помощью которой мы отслеживаем, улучшается ли модель с обучением или нет.\n",
        "* metrics(метрики) – Это помогает оценить модель путем прогнозирования обучающих и валидационных данных."
      ],
      "metadata": {
        "id": "tKcaR_OHeOVa"
      }
    },
    {
      "cell_type": "code",
      "source": [
        "model.compile(optimizer='adam',\n",
        "              loss='mean_squared_error')\n",
        "history = model.fit(x_train,\n",
        "                    y_train,\n",
        "                    epochs=10)"
      ],
      "metadata": {
        "colab": {
          "base_uri": "https://localhost:8080/"
        },
        "id": "kvNAiXUSXqsw",
        "outputId": "1dad9cdf-ccb7-4ee8-c862-7c6925e90e29"
      },
      "execution_count": null,
      "outputs": [
        {
          "output_type": "stream",
          "name": "stdout",
          "text": [
            "Epoch 1/10\n",
            "\u001b[1m27/27\u001b[0m \u001b[32m━━━━━━━━━━━━━━━━━━━━\u001b[0m\u001b[37m\u001b[0m \u001b[1m5s\u001b[0m 54ms/step - loss: 0.0131\n",
            "Epoch 2/10\n",
            "\u001b[1m27/27\u001b[0m \u001b[32m━━━━━━━━━━━━━━━━━━━━\u001b[0m\u001b[37m\u001b[0m \u001b[1m1s\u001b[0m 52ms/step - loss: 0.0105\n",
            "Epoch 3/10\n",
            "\u001b[1m27/27\u001b[0m \u001b[32m━━━━━━━━━━━━━━━━━━━━\u001b[0m\u001b[37m\u001b[0m \u001b[1m1s\u001b[0m 54ms/step - loss: 0.0100\n",
            "Epoch 4/10\n",
            "\u001b[1m27/27\u001b[0m \u001b[32m━━━━━━━━━━━━━━━━━━━━\u001b[0m\u001b[37m\u001b[0m \u001b[1m1s\u001b[0m 53ms/step - loss: 0.0089\n",
            "Epoch 5/10\n",
            "\u001b[1m27/27\u001b[0m \u001b[32m━━━━━━━━━━━━━━━━━━━━\u001b[0m\u001b[37m\u001b[0m \u001b[1m4s\u001b[0m 100ms/step - loss: 0.0090\n",
            "Epoch 6/10\n",
            "\u001b[1m27/27\u001b[0m \u001b[32m━━━━━━━━━━━━━━━━━━━━\u001b[0m\u001b[37m\u001b[0m \u001b[1m4s\u001b[0m 56ms/step - loss: 0.0094\n",
            "Epoch 7/10\n",
            "\u001b[1m27/27\u001b[0m \u001b[32m━━━━━━━━━━━━━━━━━━━━\u001b[0m\u001b[37m\u001b[0m \u001b[1m2s\u001b[0m 52ms/step - loss: 0.0094\n",
            "Epoch 8/10\n",
            "\u001b[1m27/27\u001b[0m \u001b[32m━━━━━━━━━━━━━━━━━━━━\u001b[0m\u001b[37m\u001b[0m \u001b[1m1s\u001b[0m 54ms/step - loss: 0.0084\n",
            "Epoch 9/10\n",
            "\u001b[1m27/27\u001b[0m \u001b[32m━━━━━━━━━━━━━━━━━━━━\u001b[0m\u001b[37m\u001b[0m \u001b[1m3s\u001b[0m 53ms/step - loss: 0.0087\n",
            "Epoch 10/10\n",
            "\u001b[1m27/27\u001b[0m \u001b[32m━━━━━━━━━━━━━━━━━━━━\u001b[0m\u001b[37m\u001b[0m \u001b[1m2s\u001b[0m 73ms/step - loss: 0.0064\n"
          ]
        }
      ]
    },
    {
      "cell_type": "markdown",
      "source": [],
      "metadata": {
        "id": "5AlMBVVKooia"
      }
    },
    {
      "cell_type": "markdown",
      "source": [
        "## Создаем тетстовые данные"
      ],
      "metadata": {
        "id": "2o8pcln4oYbE"
      }
    },
    {
      "cell_type": "code",
      "source": [
        "test_data = scaled_data[training - 60:, :]\n",
        "x_test = []\n",
        "y_test = dataset[training:, :]\n",
        "for i in range(60, len(test_data)):\n",
        "    x_test.append(test_data[i-60:i, 0])\n",
        "\n",
        "x_test = np.array(x_test)\n",
        "x_test = np.reshape(x_test, (x_test.shape[0], x_test.shape[1], 1))\n",
        "\n",
        "# прогнозирование тестировых данных\n",
        "predictions = model.predict(x_test)\n",
        "predictions = scaler.inverse_transform(predictions)\n",
        "\n",
        "# показатели оценки\n",
        "mse = np.mean(((predictions - y_test) ** 2))\n",
        "# среднеквадратическая ошибка\n",
        "print(\"MSE\", mse)\n",
        "# среднеквадратичное отклонение\n",
        "print(\"RMSE\", np.sqrt(mse))\n"
      ],
      "metadata": {
        "colab": {
          "base_uri": "https://localhost:8080/"
        },
        "id": "DsIy8CfSX3x5",
        "outputId": "aaf3de46-b075-43b4-e52e-f6feb7d212b6"
      },
      "execution_count": null,
      "outputs": [
        {
          "output_type": "stream",
          "name": "stdout",
          "text": [
            "\u001b[1m4/4\u001b[0m \u001b[32m━━━━━━━━━━━━━━━━━━━━\u001b[0m\u001b[37m\u001b[0m \u001b[1m1s\u001b[0m 152ms/step\n",
            "MSE 88.66953935417963\n",
            "RMSE 9.416450464701635\n"
          ]
        }
      ]
    },
    {
      "cell_type": "markdown",
      "source": [
        "## Визиализируем результаты"
      ],
      "metadata": {
        "id": "N9urqqWhqUPB"
      }
    },
    {
      "cell_type": "code",
      "source": [
        "train = data[:training]\n",
        "test = data[training:]\n",
        "test['Predictions'] = predictions\n",
        "\n",
        "plt.figure(figsize=(10, 8))\n",
        "plt.plot(train['date'], train['<CLOSE>'])\n",
        "plt.plot(test['date'], test[['<CLOSE>', 'Predictions']])\n",
        "plt.title('Stock Close Price')\n",
        "plt.xlabel('Date')\n",
        "plt.ylabel(\"Close\")\n",
        "plt.legend(['Train', 'Test', 'Predictions'])\n",
        "\n"
      ],
      "metadata": {
        "colab": {
          "base_uri": "https://localhost:8080/",
          "height": 845
        },
        "id": "HpkXqQAFX_z_",
        "outputId": "d8cba3f1-20c3-46af-8c4c-0d17c7ff43e3"
      },
      "execution_count": null,
      "outputs": [
        {
          "output_type": "stream",
          "name": "stderr",
          "text": [
            "<ipython-input-28-9e466b868965>:3: SettingWithCopyWarning: \n",
            "A value is trying to be set on a copy of a slice from a DataFrame.\n",
            "Try using .loc[row_indexer,col_indexer] = value instead\n",
            "\n",
            "See the caveats in the documentation: https://pandas.pydata.org/pandas-docs/stable/user_guide/indexing.html#returning-a-view-versus-a-copy\n",
            "  test['Predictions'] = predictions\n"
          ]
        },
        {
          "output_type": "execute_result",
          "data": {
            "text/plain": [
              "<matplotlib.legend.Legend at 0x7d57fdb3cf90>"
            ]
          },
          "metadata": {},
          "execution_count": 28
        },
        {
          "output_type": "display_data",
          "data": {
            "text/plain": [
              "<Figure size 1000x800 with 1 Axes>"
            ],
            "image/png": "[encoded data removed]"
          },
          "metadata": {}
        }
      ]
    },
    {
      "cell_type": "markdown",
      "source": [
        "Точность предсказаний, как видим на графике, довольно неплохая.\n",
        "\n",
        "Можно ее улучшить, поэксперементировав с:\n",
        "* разными предобученными моделями\n",
        "* попробовав другие архитектуры\n",
        "* добавить другие методы аугментации данных."
      ],
      "metadata": {
        "id": "K6helBsyrtOn"
      }
    }
  ]
}